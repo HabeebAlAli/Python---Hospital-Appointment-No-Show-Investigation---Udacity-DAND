{
 "cells": [
  {
   "cell_type": "markdown",
   "metadata": {},
   "source": [
    "\n",
    "# Project: Investigating some posible reasons behind not showing in a hospital appointment \n",
    "\n",
    "## Table of Contents\n",
    "<ul>\n",
    "<li><a href=\"#intro\">Introduction</a></li>\n",
    "<li><a href=\"#wrangling\">Data Wrangling</a></li>\n",
    "<li><a href=\"#DataCleaning\">Data Cleaning</a></li>\n",
    "<li><a href=\"#eda\">Exploratory Data Analysis</a></li>\n",
    "<li><a href=\"#q1\">Question 1</a></li>\n",
    "<li><a href=\"#q2\">Question 2</a></li>\n",
    "<li><a href=\"#q3\">Question 3</a></li>\n",
    "<li><a href=\"#conclusions\">Conclusions</a></li>\n",
    "</ul>"
   ]
  },
  {
   "cell_type": "markdown",
   "metadata": {},
   "source": [
    "<a id='intro'></a>\n",
    "## Introduction\n",
    "\n",
    "This dataset is about hospital appointments of a selected sample of patients who showed up and others who did not. Some data regarding the patient in each appointment has been provided. for example the gender of the patient, did the patient recieved an SMS message or if the patient has diabetes or not and others.\n",
    "Here we will examine if not recieving an SMS msaage might cause the patient not to show in the appointment. Also, on what days did most patients in the sample did not show on the appointment. Last we will check if there is a specific age group which do not show in appointments more than the other groups."
   ]
  },
  {
   "cell_type": "code",
   "execution_count": 34,
   "metadata": {},
   "outputs": [],
   "source": [
    "import pandas as pd\n",
    "import numpy as np\n",
    "import matplotlib.pyplot as plt\n",
    "import statistics as stat\n",
    "from datetime import datetime\n",
    "\n",
    "%matplotlib inline"
   ]
  },
  {
   "cell_type": "markdown",
   "metadata": {},
   "source": [
    "<a id='wrangling'></a>\n",
    "## Data Wrangling\n",
    "\n",
    "### General Properties"
   ]
  },
  {
   "cell_type": "code",
   "execution_count": 35,
   "metadata": {},
   "outputs": [
    {
     "name": "stdout",
     "output_type": "stream",
     "text": [
      "<class 'pandas.core.frame.DataFrame'>\n",
      "RangeIndex: 110527 entries, 0 to 110526\n",
      "Data columns (total 14 columns):\n",
      "PatientId         110527 non-null float64\n",
      "AppointmentID     110527 non-null int64\n",
      "Gender            110527 non-null object\n",
      "ScheduledDay      110527 non-null object\n",
      "AppointmentDay    110527 non-null object\n",
      "Age               110527 non-null int64\n",
      "Neighbourhood     110527 non-null object\n",
      "Scholarship       110527 non-null int64\n",
      "Hipertension      110527 non-null int64\n",
      "Diabetes          110527 non-null int64\n",
      "Alcoholism        110527 non-null int64\n",
      "Handcap           110527 non-null int64\n",
      "SMS_received      110527 non-null int64\n",
      "No-show           110527 non-null object\n",
      "dtypes: float64(1), int64(8), object(5)\n",
      "memory usage: 11.8+ MB\n",
      "None\n"
     ]
    },
    {
     "data": {
      "text/html": [
       "<div>\n",
       "<style>\n",
       "    .dataframe thead tr:only-child th {\n",
       "        text-align: right;\n",
       "    }\n",
       "\n",
       "    .dataframe thead th {\n",
       "        text-align: left;\n",
       "    }\n",
       "\n",
       "    .dataframe tbody tr th {\n",
       "        vertical-align: top;\n",
       "    }\n",
       "</style>\n",
       "<table border=\"1\" class=\"dataframe\">\n",
       "  <thead>\n",
       "    <tr style=\"text-align: right;\">\n",
       "      <th></th>\n",
       "      <th>PatientId</th>\n",
       "      <th>AppointmentID</th>\n",
       "      <th>Gender</th>\n",
       "      <th>ScheduledDay</th>\n",
       "      <th>AppointmentDay</th>\n",
       "      <th>Age</th>\n",
       "      <th>Neighbourhood</th>\n",
       "      <th>Scholarship</th>\n",
       "      <th>Hipertension</th>\n",
       "      <th>Diabetes</th>\n",
       "      <th>Alcoholism</th>\n",
       "      <th>Handcap</th>\n",
       "      <th>SMS_received</th>\n",
       "      <th>No-show</th>\n",
       "    </tr>\n",
       "  </thead>\n",
       "  <tbody>\n",
       "    <tr>\n",
       "      <th>0</th>\n",
       "      <td>2.987250e+13</td>\n",
       "      <td>5642903</td>\n",
       "      <td>F</td>\n",
       "      <td>2016-04-29T18:38:08Z</td>\n",
       "      <td>2016-04-29T00:00:00Z</td>\n",
       "      <td>62</td>\n",
       "      <td>JARDIM DA PENHA</td>\n",
       "      <td>0</td>\n",
       "      <td>1</td>\n",
       "      <td>0</td>\n",
       "      <td>0</td>\n",
       "      <td>0</td>\n",
       "      <td>0</td>\n",
       "      <td>No</td>\n",
       "    </tr>\n",
       "    <tr>\n",
       "      <th>1</th>\n",
       "      <td>5.589978e+14</td>\n",
       "      <td>5642503</td>\n",
       "      <td>M</td>\n",
       "      <td>2016-04-29T16:08:27Z</td>\n",
       "      <td>2016-04-29T00:00:00Z</td>\n",
       "      <td>56</td>\n",
       "      <td>JARDIM DA PENHA</td>\n",
       "      <td>0</td>\n",
       "      <td>0</td>\n",
       "      <td>0</td>\n",
       "      <td>0</td>\n",
       "      <td>0</td>\n",
       "      <td>0</td>\n",
       "      <td>No</td>\n",
       "    </tr>\n",
       "    <tr>\n",
       "      <th>2</th>\n",
       "      <td>4.262962e+12</td>\n",
       "      <td>5642549</td>\n",
       "      <td>F</td>\n",
       "      <td>2016-04-29T16:19:04Z</td>\n",
       "      <td>2016-04-29T00:00:00Z</td>\n",
       "      <td>62</td>\n",
       "      <td>MATA DA PRAIA</td>\n",
       "      <td>0</td>\n",
       "      <td>0</td>\n",
       "      <td>0</td>\n",
       "      <td>0</td>\n",
       "      <td>0</td>\n",
       "      <td>0</td>\n",
       "      <td>No</td>\n",
       "    </tr>\n",
       "    <tr>\n",
       "      <th>3</th>\n",
       "      <td>8.679512e+11</td>\n",
       "      <td>5642828</td>\n",
       "      <td>F</td>\n",
       "      <td>2016-04-29T17:29:31Z</td>\n",
       "      <td>2016-04-29T00:00:00Z</td>\n",
       "      <td>8</td>\n",
       "      <td>PONTAL DE CAMBURI</td>\n",
       "      <td>0</td>\n",
       "      <td>0</td>\n",
       "      <td>0</td>\n",
       "      <td>0</td>\n",
       "      <td>0</td>\n",
       "      <td>0</td>\n",
       "      <td>No</td>\n",
       "    </tr>\n",
       "    <tr>\n",
       "      <th>4</th>\n",
       "      <td>8.841186e+12</td>\n",
       "      <td>5642494</td>\n",
       "      <td>F</td>\n",
       "      <td>2016-04-29T16:07:23Z</td>\n",
       "      <td>2016-04-29T00:00:00Z</td>\n",
       "      <td>56</td>\n",
       "      <td>JARDIM DA PENHA</td>\n",
       "      <td>0</td>\n",
       "      <td>1</td>\n",
       "      <td>1</td>\n",
       "      <td>0</td>\n",
       "      <td>0</td>\n",
       "      <td>0</td>\n",
       "      <td>No</td>\n",
       "    </tr>\n",
       "  </tbody>\n",
       "</table>\n",
       "</div>"
      ],
      "text/plain": [
       "      PatientId  AppointmentID Gender          ScheduledDay  \\\n",
       "0  2.987250e+13        5642903      F  2016-04-29T18:38:08Z   \n",
       "1  5.589978e+14        5642503      M  2016-04-29T16:08:27Z   \n",
       "2  4.262962e+12        5642549      F  2016-04-29T16:19:04Z   \n",
       "3  8.679512e+11        5642828      F  2016-04-29T17:29:31Z   \n",
       "4  8.841186e+12        5642494      F  2016-04-29T16:07:23Z   \n",
       "\n",
       "         AppointmentDay  Age      Neighbourhood  Scholarship  Hipertension  \\\n",
       "0  2016-04-29T00:00:00Z   62    JARDIM DA PENHA            0             1   \n",
       "1  2016-04-29T00:00:00Z   56    JARDIM DA PENHA            0             0   \n",
       "2  2016-04-29T00:00:00Z   62      MATA DA PRAIA            0             0   \n",
       "3  2016-04-29T00:00:00Z    8  PONTAL DE CAMBURI            0             0   \n",
       "4  2016-04-29T00:00:00Z   56    JARDIM DA PENHA            0             1   \n",
       "\n",
       "   Diabetes  Alcoholism  Handcap  SMS_received No-show  \n",
       "0         0           0        0             0      No  \n",
       "1         0           0        0             0      No  \n",
       "2         0           0        0             0      No  \n",
       "3         0           0        0             0      No  \n",
       "4         1           0        0             0      No  "
      ]
     },
     "execution_count": 35,
     "metadata": {},
     "output_type": "execute_result"
    }
   ],
   "source": [
    "#Read the data from the csv file\n",
    "MyData = pd.read_csv('noshowappointments-kagglev2-may-2016.csv')\n",
    "\n",
    "#Check if there are missing values:\n",
    "print(MyData.info())\n",
    "\n",
    "#print the first five rows \n",
    "MyData.head()"
   ]
  },
  {
   "cell_type": "code",
   "execution_count": 3,
   "metadata": {},
   "outputs": [
    {
     "name": "stdout",
     "output_type": "stream",
     "text": [
      "F    71840\n",
      "M    38687\n",
      "Name: Gender, dtype: int64\n",
      "Female percentage in the sample is 65.00%, and male percentage is 35.00% \"rounded\"\n"
     ]
    }
   ],
   "source": [
    "#Print the number of male and female in the sample data\n",
    "print(MyData['Gender'].value_counts())\n",
    "\n",
    "# Get the number of female only in the sample\n",
    "Female_Count = MyData['Gender'].value_counts().tolist()[0]\n",
    "\n",
    "# Get the number of male only in the sample\n",
    "Male_Count = MyData['Gender'].value_counts().tolist()[1]\n",
    "\n",
    "#Calculate the female percentage in the sample\n",
    "Female_Percentage = (Female_Count*100)/(Male_Count+Female_Count)\n",
    "\n",
    "#Calculate the mal percentage in the sample\n",
    "MalePercentage = 100-Female_Percentage\n",
    "\n",
    "#Print the results of female and male \n",
    "print('Female percentage in the sample is {}%, and male percentage is {}% \"rounded\"'.format(\"{:.2f}\".format(Female_Percentage) , \"{:.2f}\".format(MalePercentage)))"
   ]
  },
  {
   "cell_type": "code",
   "execution_count": 4,
   "metadata": {},
   "outputs": [
    {
     "name": "stdout",
     "output_type": "stream",
     "text": [
      "0    99666\n",
      "1    10861\n",
      "Name: Scholarship, dtype: int64\n",
      "0    88726\n",
      "1    21801\n",
      "Name: Hipertension, dtype: int64\n",
      "0    102584\n",
      "1      7943\n",
      "Name: Diabetes, dtype: int64\n",
      "0    107167\n",
      "1      3360\n",
      "Name: Alcoholism, dtype: int64\n",
      "0    108286\n",
      "1      2042\n",
      "2       183\n",
      "3        13\n",
      "4         3\n",
      "Name: Handcap, dtype: int64\n",
      "0    75045\n",
      "1    35482\n",
      "Name: SMS_received, dtype: int64\n",
      "No     88208\n",
      "Yes    22319\n",
      "Name: No-show, dtype: int64\n"
     ]
    }
   ],
   "source": [
    "#print the count of the data where the data are 0 or 1 (no or yes respectively)\n",
    "print(MyData['Scholarship'].value_counts())\n",
    "print(MyData['Hipertension'].value_counts())\n",
    "print(MyData['Diabetes'].value_counts())\n",
    "print(MyData['Alcoholism'].value_counts())\n",
    "print(MyData['Handcap'].value_counts())\n",
    "print(MyData['SMS_received'].value_counts())\n",
    "print(MyData['No-show'].value_counts())"
   ]
  },
  {
   "cell_type": "markdown",
   "metadata": {},
   "source": [
    "There is an issue in the Handcap data as it is supposed to be ( 0 ) or ( 1 ) for yes and No but there are 2,3 and 4 entries."
   ]
  },
  {
   "cell_type": "code",
   "execution_count": 36,
   "metadata": {},
   "outputs": [
    {
     "name": "stdout",
     "output_type": "stream",
     "text": [
      "115\n",
      "-1\n"
     ]
    }
   ],
   "source": [
    "#Print the minimum and maximum age in the sample\n",
    "print(MyData.Age.max())\n",
    "print(MyData.Age.min())"
   ]
  },
  {
   "cell_type": "markdown",
   "metadata": {},
   "source": [
    "It seams there is a wrong Age entry as -1 (One or more entries) "
   ]
  },
  {
   "cell_type": "markdown",
   "metadata": {},
   "source": [
    "<a id='DataCleaning'></a>\n",
    "\n",
    "## Data Cleaning: Remove the wrong entries and the irrelevant columns and rows"
   ]
  },
  {
   "cell_type": "markdown",
   "metadata": {},
   "source": [
    "Remove the Handcap and Age wrong values "
   ]
  },
  {
   "cell_type": "code",
   "execution_count": 23,
   "metadata": {},
   "outputs": [],
   "source": [
    "# Remove [Handcap] where the value is not 0 or 1 \n",
    "MyData = MyData[MyData.Handcap < 2]\n",
    "#Remove Age less than 0 \n",
    "MyData = MyData[MyData.Age >= 0]"
   ]
  },
  {
   "cell_type": "markdown",
   "metadata": {},
   "source": [
    "As we will be investegating the no-show data, we will remove the rows where the patient showed. "
   ]
  },
  {
   "cell_type": "code",
   "execution_count": 10,
   "metadata": {},
   "outputs": [
    {
     "name": "stdout",
     "output_type": "stream",
     "text": [
      "PatientId         22278\n",
      "AppointmentID     22278\n",
      "Gender            22278\n",
      "ScheduledDay      22278\n",
      "AppointmentDay    22278\n",
      "Age               22278\n",
      "Neighbourhood     22278\n",
      "Scholarship       22278\n",
      "Hipertension      22278\n",
      "Diabetes          22278\n",
      "Alcoholism        22278\n",
      "Handcap           22278\n",
      "SMS_received      22278\n",
      "No_show           22278\n",
      "dtype: int64\n"
     ]
    }
   ],
   "source": [
    "# Rename the coulmn No-show to No_Show\n",
    "MyData = MyData.rename(columns = {'No-show':'No_show'})\n",
    "\n",
    "#reassign the datafram and keep only the rows where No_show is Yes\n",
    "MyData = MyData[MyData.No_show == 'Yes']\n",
    "print(MyData.count())"
   ]
  },
  {
   "cell_type": "code",
   "execution_count": 11,
   "metadata": {},
   "outputs": [
    {
     "data": {
      "text/html": [
       "<div>\n",
       "<style>\n",
       "    .dataframe thead tr:only-child th {\n",
       "        text-align: right;\n",
       "    }\n",
       "\n",
       "    .dataframe thead th {\n",
       "        text-align: left;\n",
       "    }\n",
       "\n",
       "    .dataframe tbody tr th {\n",
       "        vertical-align: top;\n",
       "    }\n",
       "</style>\n",
       "<table border=\"1\" class=\"dataframe\">\n",
       "  <thead>\n",
       "    <tr style=\"text-align: right;\">\n",
       "      <th></th>\n",
       "      <th>PatientId</th>\n",
       "      <th>AppointmentID</th>\n",
       "      <th>Gender</th>\n",
       "      <th>ScheduledDay</th>\n",
       "      <th>AppointmentDay</th>\n",
       "      <th>Age</th>\n",
       "      <th>Neighbourhood</th>\n",
       "      <th>Scholarship</th>\n",
       "      <th>Hipertension</th>\n",
       "      <th>Diabetes</th>\n",
       "      <th>Alcoholism</th>\n",
       "      <th>Handcap</th>\n",
       "      <th>SMS_received</th>\n",
       "      <th>No_show</th>\n",
       "      <th>DealtaDays</th>\n",
       "    </tr>\n",
       "  </thead>\n",
       "  <tbody>\n",
       "    <tr>\n",
       "      <th>6</th>\n",
       "      <td>7.336882e+14</td>\n",
       "      <td>5630279</td>\n",
       "      <td>F</td>\n",
       "      <td>2016-04-27 15:05:12</td>\n",
       "      <td>2016-04-29</td>\n",
       "      <td>23</td>\n",
       "      <td>GOIABEIRAS</td>\n",
       "      <td>0</td>\n",
       "      <td>0</td>\n",
       "      <td>0</td>\n",
       "      <td>0</td>\n",
       "      <td>0</td>\n",
       "      <td>0</td>\n",
       "      <td>Yes</td>\n",
       "      <td>1 days 08:54:48</td>\n",
       "    </tr>\n",
       "    <tr>\n",
       "      <th>7</th>\n",
       "      <td>3.449833e+12</td>\n",
       "      <td>5630575</td>\n",
       "      <td>F</td>\n",
       "      <td>2016-04-27 15:39:58</td>\n",
       "      <td>2016-04-29</td>\n",
       "      <td>39</td>\n",
       "      <td>GOIABEIRAS</td>\n",
       "      <td>0</td>\n",
       "      <td>0</td>\n",
       "      <td>0</td>\n",
       "      <td>0</td>\n",
       "      <td>0</td>\n",
       "      <td>0</td>\n",
       "      <td>Yes</td>\n",
       "      <td>1 days 08:20:02</td>\n",
       "    </tr>\n",
       "    <tr>\n",
       "      <th>11</th>\n",
       "      <td>7.542951e+12</td>\n",
       "      <td>5620163</td>\n",
       "      <td>M</td>\n",
       "      <td>2016-04-26 08:44:12</td>\n",
       "      <td>2016-04-29</td>\n",
       "      <td>29</td>\n",
       "      <td>NOVA PALESTINA</td>\n",
       "      <td>0</td>\n",
       "      <td>0</td>\n",
       "      <td>0</td>\n",
       "      <td>0</td>\n",
       "      <td>0</td>\n",
       "      <td>1</td>\n",
       "      <td>Yes</td>\n",
       "      <td>2 days 15:15:48</td>\n",
       "    </tr>\n",
       "    <tr>\n",
       "      <th>17</th>\n",
       "      <td>1.479497e+13</td>\n",
       "      <td>5633460</td>\n",
       "      <td>F</td>\n",
       "      <td>2016-04-28 09:28:57</td>\n",
       "      <td>2016-04-29</td>\n",
       "      <td>40</td>\n",
       "      <td>CONQUISTA</td>\n",
       "      <td>1</td>\n",
       "      <td>0</td>\n",
       "      <td>0</td>\n",
       "      <td>0</td>\n",
       "      <td>0</td>\n",
       "      <td>0</td>\n",
       "      <td>Yes</td>\n",
       "      <td>0 days 14:31:03</td>\n",
       "    </tr>\n",
       "    <tr>\n",
       "      <th>20</th>\n",
       "      <td>6.222575e+14</td>\n",
       "      <td>5626083</td>\n",
       "      <td>F</td>\n",
       "      <td>2016-04-27 07:51:14</td>\n",
       "      <td>2016-04-29</td>\n",
       "      <td>30</td>\n",
       "      <td>NOVA PALESTINA</td>\n",
       "      <td>0</td>\n",
       "      <td>0</td>\n",
       "      <td>0</td>\n",
       "      <td>0</td>\n",
       "      <td>0</td>\n",
       "      <td>0</td>\n",
       "      <td>Yes</td>\n",
       "      <td>1 days 16:08:46</td>\n",
       "    </tr>\n",
       "  </tbody>\n",
       "</table>\n",
       "</div>"
      ],
      "text/plain": [
       "       PatientId  AppointmentID Gender        ScheduledDay AppointmentDay  \\\n",
       "6   7.336882e+14        5630279      F 2016-04-27 15:05:12     2016-04-29   \n",
       "7   3.449833e+12        5630575      F 2016-04-27 15:39:58     2016-04-29   \n",
       "11  7.542951e+12        5620163      M 2016-04-26 08:44:12     2016-04-29   \n",
       "17  1.479497e+13        5633460      F 2016-04-28 09:28:57     2016-04-29   \n",
       "20  6.222575e+14        5626083      F 2016-04-27 07:51:14     2016-04-29   \n",
       "\n",
       "    Age   Neighbourhood  Scholarship  Hipertension  Diabetes  Alcoholism  \\\n",
       "6    23      GOIABEIRAS            0             0         0           0   \n",
       "7    39      GOIABEIRAS            0             0         0           0   \n",
       "11   29  NOVA PALESTINA            0             0         0           0   \n",
       "17   40       CONQUISTA            1             0         0           0   \n",
       "20   30  NOVA PALESTINA            0             0         0           0   \n",
       "\n",
       "    Handcap  SMS_received No_show      DealtaDays  \n",
       "6         0             0     Yes 1 days 08:54:48  \n",
       "7         0             0     Yes 1 days 08:20:02  \n",
       "11        0             1     Yes 2 days 15:15:48  \n",
       "17        0             0     Yes 0 days 14:31:03  \n",
       "20        0             0     Yes 1 days 16:08:46  "
      ]
     },
     "execution_count": 11,
     "metadata": {},
     "output_type": "execute_result"
    }
   ],
   "source": [
    "#Assesstance on performin this was from here:\n",
    "# https://stackoverflow.com/questions/22132525/add-column-with-number-of-days-between-dates-in-dataframe-pandas\n",
    "\n",
    "#Here we will add a column for the number of days between the appointment data \n",
    "# and when it was scheduled\n",
    "\n",
    "#Convert the data in the ScheduledDay column to date time\n",
    "MyData['ScheduledDay'] = pd.to_datetime(MyData['ScheduledDay'])\n",
    "\n",
    "#Convert the data in the AppointmentDay column to date time\n",
    "MyData['AppointmentDay'] = pd.to_datetime(MyData['AppointmentDay'])\n",
    "\n",
    "#Create a column for the deferance called DealtDays\n",
    "MyData[\"DealtaDays\"] = MyData['AppointmentDay'] - MyData['ScheduledDay']\n",
    "\n",
    "#Print the first five rows to check the work\n",
    "MyData.head()"
   ]
  },
  {
   "cell_type": "markdown",
   "metadata": {},
   "source": [
    "##### <a id='eda'></a>\n",
    "## Exploratory Data Analysis"
   ]
  },
  {
   "cell_type": "markdown",
   "metadata": {},
   "source": [
    "##### <a id='q1'></a>\n",
    "### Question 1: What percentage of the patients has recieved a reminder SMS:"
   ]
  },
  {
   "cell_type": "code",
   "execution_count": 12,
   "metadata": {},
   "outputs": [
    {
     "name": "stdout",
     "output_type": "stream",
     "text": [
      "Total number of patient in the sample who didn't show up in appointment is 22278\n",
      "--------------------\n",
      "Total Female 14568\n",
      "Total Male 7710\n",
      "--------------------\n",
      "6713 Female didn't show up and recieved SMS.\n",
      "7855 Female didn't show up and didn't recieve SMS.\n",
      "3062 Male didn't show up and recieved SMS.\n",
      "4648 Male didn't show up and didn't recieve SMS.\n"
     ]
    }
   ],
   "source": [
    "# Use this, and more code cells, to explore your data. Don't forget to add\n",
    "#   Markdown cells to document your observations and findings.\n",
    "Total = sum(MyData['Gender'].value_counts().tolist())\n",
    "\n",
    "Total_Female = len(MyData[(MyData['Gender'] == 'F')])\n",
    "Total_Male = len(MyData[(MyData['Gender'] == 'M')])\n",
    "\n",
    "Female_SMS = len(MyData[(MyData['Gender'] == 'F') & (MyData['SMS_received'] == 1)]) \n",
    "Female_no_SMS = len(MyData[(MyData['Gender'] == 'F') & (MyData['SMS_received'] == 0)])\n",
    "\n",
    "Male_SMS = len(MyData[(MyData['Gender'] == 'M') & (MyData['SMS_received'] == 1)]) \n",
    "Male_no_SMS = len(MyData[(MyData['Gender'] == 'M') & (MyData['SMS_received'] == 0)])\n",
    "\n",
    "\n",
    "print('Total number of patient in the sample who didn\\'t show up in appointment is {}'.format(Total)+ '\\n--------------------')\n",
    "\n",
    "#Next line is for debugging and checking only\n",
    "#print(MyData['Gender'].value_counts().tolist())\n",
    "\n",
    "#\n",
    "print('Total Female ' + str(Total_Female))\n",
    "print('Total Male ' + str(Total_Male)+ '\\n--------------------')\n",
    "\n",
    "\n",
    "#Count and print the number of No Show Female who recieved SMS\n",
    "\n",
    "print('{} Female didn\\'t show up and recieved SMS.'.format(Female_SMS))\n",
    "\n",
    "#Count and print the number of No Show Female who recieved SMS\n",
    "print('{} Female didn\\'t show up and didn\\'t recieve SMS.'.format(Female_no_SMS))\n",
    "\n",
    "#Count and print the number of No Show Male who didn't recieved SMS\n",
    "print('{} Male didn\\'t show up and recieved SMS.'.format(Male_SMS))\n",
    "\n",
    "#Count and print the number of No Show Male who didn't recieved SMS\n",
    "\n",
    "print('{} Male didn\\'t show up and didn\\'t recieve SMS.'.format(Male_no_SMS))\n",
    "\n",
    "data_n_array = np.array([['Gender','SMS','No SMS'],['Female' ,Female_SMS , Female_no_SMS ],['Male' , Male_SMS , Male_no_SMS ]])"
   ]
  },
  {
   "cell_type": "markdown",
   "metadata": {},
   "source": [
    "<h3>Visualize the data</h3> \n",
    "Here we will investigate how much patients of each gender do not show in appointments."
   ]
  },
  {
   "cell_type": "code",
   "execution_count": 13,
   "metadata": {},
   "outputs": [
    {
     "data": {
      "image/png": "[encoded data removed]",
      "text/plain": [
       "<matplotlib.figure.Figure at 0x7f1193cb7fd0>"
      ]
     },
     "metadata": {
      "needs_background": "light"
     },
     "output_type": "display_data"
    }
   ],
   "source": [
    "Genders = ['Female' , 'Male']\n",
    "y_pos = np.arange(len(Genders))\n",
    "Data_Plot_Genders = [Total_Female , Total_Male]\n",
    "\n",
    "#Plot the data in a bar chart\n",
    "plt.figure(figsize=(10 , 5))\n",
    "plt.bar(y_pos, Data_Plot_Genders , align='center' , width=.2)\n",
    "plt.xticks(y_pos, Genders)\n",
    "plt.ylabel('Number of Patients')\n",
    "plt.title('Female / Male  Appointment No-Show Numbers')\n",
    "plt.show()"
   ]
  },
  {
   "cell_type": "markdown",
   "metadata": {},
   "source": [
    "To investigate more, we will split each gender based on recieving SMS or not. The following is a visual representation of the data above regarding gender and recieving SMS or not."
   ]
  },
  {
   "cell_type": "code",
   "execution_count": 14,
   "metadata": {},
   "outputs": [
    {
     "data": {
      "image/png": "[encoded data removed]",
      "text/plain": [
       "<matplotlib.figure.Figure at 0x7f11947e4630>"
      ]
     },
     "metadata": {
      "needs_background": "light"
     },
     "output_type": "display_data"
    }
   ],
   "source": [
    "Genders = ['Female' , 'Male']\n",
    "SMS_state = ['Recieved SMS' , 'Didn\\'t recieve SMS']\n",
    "\n",
    "y_pos = np.arange(len(SMS_state))\n",
    "\n",
    "female_numbers = [int(data_n_array[1,1]) ,int(data_n_array[1,2])]\n",
    "male_numbers = [int(data_n_array[2,1]) ,int(data_n_array[2,2])] \n",
    "\n",
    "#Plot the data in a bar chart\n",
    "plt.figure(figsize=(10 , 5))\n",
    "plt.bar(y_pos, female_numbers , align='edge' , width=-.2)\n",
    "plt.bar(y_pos, male_numbers , align='edge' , width=.2)\n",
    "plt.xticks(y_pos, SMS_state)\n",
    "plt.legend(Genders)\n",
    "plt.ylabel('Number of Patients')\n",
    "plt.title('Female / Male  Appointment No-Show numbers based on recieving SMS or not')\n",
    "plt.show()"
   ]
  },
  {
   "cell_type": "markdown",
   "metadata": {},
   "source": [
    "It looks that there is not much efect of recieving SMS or not. However, this is not guaranteed and need more investigation to drow a solid concultion about this point. "
   ]
  },
  {
   "cell_type": "markdown",
   "metadata": {},
   "source": [
    "##### <a id='q2'></a>\n",
    "### Question 2: Which day is the day which has the higher probability of a patient not to show in an appointment?"
   ]
  },
  {
   "cell_type": "markdown",
   "metadata": {},
   "source": [
    "The next code will take the age of the patients who did not show from the data set and plot it based on the day of the appointment."
   ]
  },
  {
   "cell_type": "code",
   "execution_count": 15,
   "metadata": {},
   "outputs": [
    {
     "data": {
      "image/png": "[encoded data removed]",
      "text/plain": [
       "<matplotlib.figure.Figure at 0x7f1194825dd8>"
      ]
     },
     "metadata": {
      "needs_background": "light"
     },
     "output_type": "display_data"
    }
   ],
   "source": [
    "# Continue to explore the data to address your additional research\n",
    "#   questions. Add more headers as needed if you have more questions to\n",
    "#   investigate.\n",
    "\n",
    "# Create a new column to store the appointments days names \n",
    "MyData['day_of_week'] = MyData['AppointmentDay'].dt.weekday_name\n",
    "\n",
    "#Convert the data in the dataframe to an aggrigated list\n",
    "data_days = MyData['day_of_week'].value_counts().tolist()\n",
    "\n",
    "#Create a list to store the days names\n",
    "Days_Names = ['Tuesday' , 'Wednesday' , 'Monday' , 'Friday' , 'Thursday', 'Saturday' ]\n",
    "\n",
    "#Plot the data\n",
    "y_pos = np.arange(len(Days_Names))\n",
    "plt.figure(figsize=(10, 5))\n",
    "plt.bar(y_pos, data_days, align='center', alpha=0.5)\n",
    "plt.xticks(y_pos, Days_Names)\n",
    "plt.ylabel('Number of No Show')\n",
    "plt.title('Number of No Show in each day of the week')\n",
    " \n",
    "plt.show()"
   ]
  },
  {
   "cell_type": "markdown",
   "metadata": {},
   "source": []
  },
  {
   "cell_type": "markdown",
   "metadata": {},
   "source": [
    "##### <a id='q3'></a>\n",
    "### Question 3: what's the distribution of the patients' age who did not show in appointments?"
   ]
  },
  {
   "cell_type": "markdown",
   "metadata": {},
   "source": [
    "Age distribution of patients who did not show up on appointments. We will calculating the 5-numbers summary for the age of the patients first."
   ]
  },
  {
   "cell_type": "code",
   "execution_count": 16,
   "metadata": {},
   "outputs": [],
   "source": [
    "Min_age = MyData['Age'].min()\n",
    "Q1_age = MyData['Age'].quantile(0.25)\n",
    "Median_age = MyData['Age'].quantile(0.50)\n",
    "Q3_age = MyData['Age'].quantile(0.75)\n",
    "Max_age = MyData['Age'].max()\n",
    "SD_age = stat.stdev(MyData['Age'])"
   ]
  },
  {
   "cell_type": "code",
   "execution_count": 17,
   "metadata": {},
   "outputs": [
    {
     "name": "stdout",
     "output_type": "stream",
     "text": [
      "Youngest patient didn't show in appointment is: 0\n",
      "Quartile 1 of the patients age is 16.0\n",
      "Quartile 2 (the median) of the patients age is 33.0\n",
      "Quartile 3 of the patients age is 51.0\n",
      "Oldest patient didn't show in appointment is: 115\n",
      "The standard deviation of patients' age who didn't show in appointment is: 21.93171219946131\n"
     ]
    }
   ],
   "source": [
    "print('Youngest patient didn\\'t show in appointment is: {}'.format(Min_age))\n",
    "print('Quartile 1 of the patients age is {}'.format(Q1_age))\n",
    "print('Quartile 2 (the median) of the patients age is {}'.format(Median_age))\n",
    "print('Quartile 3 of the patients age is {}'.format(Q3_age))\n",
    "print('Oldest patient didn\\'t show in appointment is: {}'.format(Max_age))\n",
    "print('The standard deviation of patients\\' age who didn\\'t show in appointment is: {}'.format(SD_age))"
   ]
  },
  {
   "cell_type": "markdown",
   "metadata": {},
   "source": [
    "The youngest patient age 0 is still possible. It can be an infant whos age is in months so it is calculated as 0 year. The oldest patient was at the age of 115 which is possible too.<br>\n",
    "The quartile 1 means that 25% of the patints who did not show in the appointment age is 16 years or less.<br>\n",
    "The quartile 2 is the age which half of the patints who did not show in the appointment is less and the other is more.<br>\n",
    "The quartile 3 means that 75% of the patints who did not show in the appointment age is 51 years or more.<br>\n",
    "\n",
    "In the next section we will drow a boxplot chart to visualize these numbers."
   ]
  },
  {
   "cell_type": "code",
   "execution_count": 18,
   "metadata": {},
   "outputs": [
    {
     "data": {
      "image/png": "[encoded data removed]",
      "text/plain": [
       "<matplotlib.figure.Figure at 0x7f1194862048>"
      ]
     },
     "metadata": {
      "needs_background": "light"
     },
     "output_type": "display_data"
    }
   ],
   "source": [
    "fig1, ax1 = plt.subplots()\n",
    "ax1.set_title('Appointment No-show patients age')\n",
    "ax1.boxplot(MyData['Age'].tolist())\n",
    "ax1.set_ylabel('Age')\n",
    "plt.show()"
   ]
  },
  {
   "cell_type": "code",
   "execution_count": 33,
   "metadata": {},
   "outputs": [
    {
     "data": {
      "image/png": "[encoded data removed]",
      "text/plain": [
       "<matplotlib.figure.Figure at 0x7f1194840978>"
      ]
     },
     "metadata": {
      "needs_background": "light"
     },
     "output_type": "display_data"
    }
   ],
   "source": [
    "plt.hist(MyData['Age'].tolist(),range(0,115,5))\n",
    "plt.title('Distribution of Patients Age (Did not sho in appointment)')\n",
    "plt.xlabel('Age')\n",
    "plt.ylabel('Number of Patients')\n",
    "plt.show()"
   ]
  },
  {
   "cell_type": "markdown",
   "metadata": {},
   "source": [
    "<a id='conclusions'></a>\n",
    "## Conclusions\n",
    "\n",
    "From the data investigation above, appearently, there is no clear relationship between not recieving SMS and not showing in the appointment. However, this is not confirmed and with more and deeper investigation it can change.<br>\n",
    "\n",
    "Not showing on appointment has happened mostly on Tuesday and Wednesday. Monday and Friday were less. Tuesday was significantly less and a little more than half the Not showing on Tuesdays. On Saturday, there are ony couple of no shows. Either this is weekend and patients are free and not possibly missing an appointment, or it's weekend an these are wrong entries.<br>\n",
    "\n",
    "Overall, the number of patients who did not show in appointments gets less on the higher age groups."
   ]
  },
  {
   "cell_type": "code",
   "execution_count": 20,
   "metadata": {},
   "outputs": [
    {
     "data": {
      "text/plain": [
       "0"
      ]
     },
     "execution_count": 20,
     "metadata": {},
     "output_type": "execute_result"
    }
   ],
   "source": [
    "from subprocess import call\n",
    "call(['python', '-m', 'nbconvert', 'Investigate_a_Dataset.ipynb'])"
   ]
  }
 ],
 "metadata": {
  "kernelspec": {
   "display_name": "Python 3",
   "language": "python",
   "name": "python3"
  },
  "language_info": {
   "codemirror_mode": {
    "name": "ipython",
    "version": 3
   },
   "file_extension": ".py",
   "mimetype": "text/x-python",
   "name": "python",
   "nbconvert_exporter": "python",
   "pygments_lexer": "ipython3",
   "version": "3.6.3"
  }
 },
 "nbformat": 4,
 "nbformat_minor": 2
}
